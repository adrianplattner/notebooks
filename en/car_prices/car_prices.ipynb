{
 "cells": [
  {
   "cell_type": "markdown",
   "metadata": {},
   "source": [
    "## Scrape and Predict Car Prices"
   ]
  },
  {
   "cell_type": "code",
   "execution_count": 35,
   "metadata": {
    "collapsed": false
   },
   "outputs": [],
   "source": [
    "from scrapy.selector import Selector\n",
    "from scrapy.http import HtmlResponse\n",
    "import urllib2\n",
    "import pandas as pd\n",
    "import re\n",
    "from sklearn import linear_model\n",
    "from sklearn.cross_validation import train_test_split\n",
    "from sklearn.metrics import r2_score\n",
    "from sklearn.metrics import mean_squared_error\n",
    "from sklearn.utils import check_random_state\n",
    "import numpy as np\n",
    "from scipy import stats\n",
    "import matplotlib.pyplot as plt\n",
    "%matplotlib inline"
   ]
  },
  {
   "cell_type": "markdown",
   "metadata": {},
   "source": [
    "### Getting the data"
   ]
  },
  {
   "cell_type": "code",
   "execution_count": 2,
   "metadata": {
    "collapsed": false
   },
   "outputs": [],
   "source": [
    "url = \"http://listado.tucarro.com.co/carros/chevrolet/aveo/\"\n",
    "body = urllib2.urlopen(url).read()\n",
    "response = HtmlResponse(url=url,body=body)\n"
   ]
  },
  {
   "cell_type": "code",
   "execution_count": 3,
   "metadata": {
    "collapsed": false
   },
   "outputs": [
    {
     "name": "stdout",
     "output_type": "stream",
     "text": [
      "Carros, Camionetas y Camperos Chevrolet Aveo - TuCarro Colombia\n"
     ]
    }
   ],
   "source": [
    "print response.xpath('//title/text()').extract()[0]"
   ]
  },
  {
   "cell_type": "code",
   "execution_count": 4,
   "metadata": {
    "collapsed": true
   },
   "outputs": [],
   "source": [
    "def get_cars(response):\n",
    "    cars = response.xpath('//li[@class=\"article\"]')\n",
    "    names = [ car.xpath('.//a/text()').extract()[0] for car in cars]\n",
    "    prices = [ car.xpath('.//span[@class=\"ch-price\"]/text()').extract()[0] for car in cars]\n",
    "    usage = [car.xpath('.//li[@class=\"destaque\"]/strong/text()').extract() for car in cars]\n",
    "    return pd.DataFrame({'name' : names, 'price' : prices , 'year' : [x[0] for x in usage],'kms' : [x[1] for x in usage]})"
   ]
  },
  {
   "cell_type": "code",
   "execution_count": 5,
   "metadata": {
    "collapsed": false
   },
   "outputs": [
    {
     "name": "stdout",
     "output_type": "stream",
     "text": [
      "fetching for url http://listado.tucarro.com.co/carros/chevrolet/aveo/\n",
      "fetching for url http://listado.tucarro.com.co/carros/chevrolet/aveo/_Desde_49\n",
      "fetching for url http://listado.tucarro.com.co/carros/chevrolet/aveo/_Desde_97\n",
      "fetching for url http://listado.tucarro.com.co/carros/chevrolet/aveo/_Desde_145\n",
      "fetching for url http://listado.tucarro.com.co/carros/chevrolet/aveo/_Desde_193\n",
      "fetching for url http://listado.tucarro.com.co/carros/chevrolet/aveo/_Desde_241\n",
      "fetching for url http://listado.tucarro.com.co/carros/chevrolet/aveo/_Desde_289\n",
      "fetching for url http://listado.tucarro.com.co/carros/chevrolet/aveo/_Desde_337\n",
      "fetching for url http://listado.tucarro.com.co/carros/chevrolet/aveo/_Desde_385\n",
      "fetching for url http://listado.tucarro.com.co/carros/chevrolet/aveo/_Desde_433\n",
      "fetching for url http://listado.tucarro.com.co/carros/chevrolet/aveo/_Desde_481\n",
      "fetching for url http://listado.tucarro.com.co/carros/chevrolet/aveo/_Desde_529\n",
      "fetching for url http://listado.tucarro.com.co/carros/chevrolet/aveo/_Desde_577\n",
      "fetching for url http://listado.tucarro.com.co/carros/chevrolet/aveo/_Desde_625\n",
      "fetching for url http://listado.tucarro.com.co/carros/chevrolet/aveo/_Desde_673\n",
      "fetching for url http://listado.tucarro.com.co/carros/chevrolet/aveo/_Desde_721\n",
      "fetching for url http://listado.tucarro.com.co/carros/chevrolet/aveo/_Desde_769\n"
     ]
    }
   ],
   "source": [
    "limit = 20\n",
    "count = 1\n",
    "df = get_cars(response)\n",
    "print \"fetching for url\",url\n",
    "while True:\n",
    "    if count >= limit:\n",
    "        break\n",
    "        \n",
    "    new_url = response.xpath('//li[@class=\"last-child\"]/a').xpath('@href').extract()\n",
    "    if(len(new_url)==0):\n",
    "        break\n",
    "    print \"fetching for url\",new_url[0]    \n",
    "    response = HtmlResponse(url=new_url[0],body= urllib2.urlopen(new_url[0]).read())\n",
    "    df = df.append(get_cars(response))\n",
    "    count +=1"
   ]
  },
  {
   "cell_type": "code",
   "execution_count": 6,
   "metadata": {
    "collapsed": true
   },
   "outputs": [],
   "source": [
    "df.to_csv('cars.csv',encoding='utf-8',index=False)"
   ]
  },
  {
   "cell_type": "code",
   "execution_count": 6,
   "metadata": {
    "collapsed": false
   },
   "outputs": [
    {
     "data": {
      "text/html": [
       "<div style=\"max-height:1000px;max-width:1500px;overflow:auto;\">\n",
       "<table border=\"1\" class=\"dataframe\">\n",
       "  <thead>\n",
       "    <tr style=\"text-align: right;\">\n",
       "      <th></th>\n",
       "      <th>kms</th>\n",
       "      <th>name</th>\n",
       "      <th>price</th>\n",
       "      <th>year</th>\n",
       "    </tr>\n",
       "  </thead>\n",
       "  <tbody>\n",
       "    <tr>\n",
       "      <th>0</th>\n",
       "      <td>51.000 Km</td>\n",
       "      <td>Chevrolet Aveo Family Mt 1500cc 4p Aa</td>\n",
       "      <td>$ 20.500.000</td>\n",
       "      <td>2013</td>\n",
       "    </tr>\n",
       "    <tr>\n",
       "      <th>1</th>\n",
       "      <td>73.000 Km</td>\n",
       "      <td>Chevrolet Aveo</td>\n",
       "      <td>$ 18.800.000</td>\n",
       "      <td>2010</td>\n",
       "    </tr>\n",
       "    <tr>\n",
       "      <th>2</th>\n",
       "      <td>76.000 Km</td>\n",
       "      <td>Chevrolet Aveo Family Mt 1600cc 4p Aa</td>\n",
       "      <td>$ 17.000.000</td>\n",
       "      <td>2008</td>\n",
       "    </tr>\n",
       "    <tr>\n",
       "      <th>3</th>\n",
       "      <td>41.500 Km</td>\n",
       "      <td>Chevrolet Aveo Emotion 1.6l Mt Aa 1ab</td>\n",
       "      <td>$ 21.500.000</td>\n",
       "      <td>2010</td>\n",
       "    </tr>\n",
       "    <tr>\n",
       "      <th>4</th>\n",
       "      <td>57.300 Km</td>\n",
       "      <td>Chevrolet Aveo</td>\n",
       "      <td>$ 14.700.000</td>\n",
       "      <td>2008</td>\n",
       "    </tr>\n",
       "  </tbody>\n",
       "</table>\n",
       "</div>"
      ],
      "text/plain": [
       "         kms                                     name         price  year\n",
       "0  51.000 Km   Chevrolet Aveo Family Mt 1500cc 4p Aa   $ 20.500.000  2013\n",
       "1  73.000 Km                          Chevrolet Aveo   $ 18.800.000  2010\n",
       "2  76.000 Km   Chevrolet Aveo Family Mt 1600cc 4p Aa   $ 17.000.000  2008\n",
       "3  41.500 Km   Chevrolet Aveo Emotion 1.6l Mt Aa 1ab   $ 21.500.000  2010\n",
       "4  57.300 Km                          Chevrolet Aveo   $ 14.700.000  2008"
      ]
     },
     "execution_count": 6,
     "metadata": {},
     "output_type": "execute_result"
    }
   ],
   "source": [
    "df.head()"
   ]
  },
  {
   "cell_type": "code",
   "execution_count": 7,
   "metadata": {
    "collapsed": false
   },
   "outputs": [],
   "source": [
    "df['kms']= df['kms'].apply(lambda x : re.sub(\"[^0-9]\",\"\", x)).astype(float)"
   ]
  },
  {
   "cell_type": "code",
   "execution_count": 8,
   "metadata": {
    "collapsed": false
   },
   "outputs": [],
   "source": [
    "df['price'] = df['price'].apply(lambda y : re.sub(\"[^0-9]\",\"\", y)).astype(float)"
   ]
  },
  {
   "cell_type": "code",
   "execution_count": 9,
   "metadata": {
    "collapsed": true
   },
   "outputs": [],
   "source": [
    "df['year']=df['year'].astype(int)"
   ]
  },
  {
   "cell_type": "code",
   "execution_count": 10,
   "metadata": {
    "collapsed": true
   },
   "outputs": [],
   "source": [
    "df['price'] = df['price'] / 1000000 "
   ]
  },
  {
   "cell_type": "code",
   "execution_count": 11,
   "metadata": {
    "collapsed": false
   },
   "outputs": [
    {
     "data": {
      "text/html": [
       "<div style=\"max-height:1000px;max-width:1500px;overflow:auto;\">\n",
       "<table border=\"1\" class=\"dataframe\">\n",
       "  <thead>\n",
       "    <tr style=\"text-align: right;\">\n",
       "      <th></th>\n",
       "      <th>kms</th>\n",
       "      <th>price</th>\n",
       "      <th>year</th>\n",
       "    </tr>\n",
       "  </thead>\n",
       "  <tbody>\n",
       "    <tr>\n",
       "      <th>count</th>\n",
       "      <td>789.000000</td>\n",
       "      <td>789.000000</td>\n",
       "      <td>789.000000</td>\n",
       "    </tr>\n",
       "    <tr>\n",
       "      <th>mean</th>\n",
       "      <td>64032.068441</td>\n",
       "      <td>18.473920</td>\n",
       "      <td>2009.799747</td>\n",
       "    </tr>\n",
       "    <tr>\n",
       "      <th>std</th>\n",
       "      <td>30095.079778</td>\n",
       "      <td>2.830945</td>\n",
       "      <td>2.005184</td>\n",
       "    </tr>\n",
       "    <tr>\n",
       "      <th>min</th>\n",
       "      <td>4500.000000</td>\n",
       "      <td>13.300000</td>\n",
       "      <td>2006.000000</td>\n",
       "    </tr>\n",
       "    <tr>\n",
       "      <th>25%</th>\n",
       "      <td>42000.000000</td>\n",
       "      <td>16.400000</td>\n",
       "      <td>2008.000000</td>\n",
       "    </tr>\n",
       "    <tr>\n",
       "      <th>50%</th>\n",
       "      <td>60000.000000</td>\n",
       "      <td>18.000000</td>\n",
       "      <td>2010.000000</td>\n",
       "    </tr>\n",
       "    <tr>\n",
       "      <th>75%</th>\n",
       "      <td>79300.000000</td>\n",
       "      <td>20.300000</td>\n",
       "      <td>2012.000000</td>\n",
       "    </tr>\n",
       "    <tr>\n",
       "      <th>max</th>\n",
       "      <td>200000.000000</td>\n",
       "      <td>32.000000</td>\n",
       "      <td>2014.000000</td>\n",
       "    </tr>\n",
       "  </tbody>\n",
       "</table>\n",
       "</div>"
      ],
      "text/plain": [
       "                 kms       price         year\n",
       "count     789.000000  789.000000   789.000000\n",
       "mean    64032.068441   18.473920  2009.799747\n",
       "std     30095.079778    2.830945     2.005184\n",
       "min      4500.000000   13.300000  2006.000000\n",
       "25%     42000.000000   16.400000  2008.000000\n",
       "50%     60000.000000   18.000000  2010.000000\n",
       "75%     79300.000000   20.300000  2012.000000\n",
       "max    200000.000000   32.000000  2014.000000"
      ]
     },
     "execution_count": 11,
     "metadata": {},
     "output_type": "execute_result"
    }
   ],
   "source": [
    "df.describe()"
   ]
  },
  {
   "cell_type": "code",
   "execution_count": 28,
   "metadata": {
    "collapsed": false
   },
   "outputs": [
    {
     "data": {
      "text/plain": [
       "<matplotlib.axes.AxesSubplot at 0x7f5da0944dd0>"
      ]
     },
     "execution_count": 28,
     "metadata": {},
     "output_type": "execute_result"
    },
    {
     "data": {
      "image/png": "[encoded data removed]",
      "text/plain": [
       "<matplotlib.figure.Figure at 0x7f5da0894650>"
      ]
     },
     "metadata": {},
     "output_type": "display_data"
    }
   ],
   "source": [
    "df['year'].hist()"
   ]
  },
  {
   "cell_type": "code",
   "execution_count": 45,
   "metadata": {
    "collapsed": false
   },
   "outputs": [
    {
     "data": {
      "text/plain": [
       "<matplotlib.collections.PathCollection at 0x7f5d9fc07b50>"
      ]
     },
     "execution_count": 45,
     "metadata": {},
     "output_type": "execute_result"
    },
    {
     "data": {
      "image/png": "[encoded data removed]",
      "text/plain": [
       "<matplotlib.figure.Figure at 0x7f5d9ffb9a90>"
      ]
     },
     "metadata": {},
     "output_type": "display_data"
    }
   ],
   "source": [
    "plt.scatter(df['year'],df['kms'])"
   ]
  },
  {
   "cell_type": "code",
   "execution_count": 33,
   "metadata": {
    "collapsed": false
   },
   "outputs": [
    {
     "data": {
      "text/plain": [
       "<matplotlib.axes.AxesSubplot at 0x7f5da07b9650>"
      ]
     },
     "execution_count": 33,
     "metadata": {},
     "output_type": "execute_result"
    },
    {
     "data": {
      "image/png": "[encoded data removed]",
      "text/plain": [
       "<matplotlib.figure.Figure at 0x7f5da0635050>"
      ]
     },
     "metadata": {},
     "output_type": "display_data"
    }
   ],
   "source": [
    "df.plot(kind='scatter',x='kms',y='price')"
   ]
  },
  {
   "cell_type": "code",
   "execution_count": 32,
   "metadata": {
    "collapsed": false
   },
   "outputs": [
    {
     "data": {
      "text/plain": [
       "<matplotlib.axes.AxesSubplot at 0x7f5da05fc610>"
      ]
     },
     "execution_count": 32,
     "metadata": {},
     "output_type": "execute_result"
    },
    {
     "data": {
      "image/png": "[encoded data removed]",
      "text/plain": [
       "<matplotlib.figure.Figure at 0x7f5da059fbd0>"
      ]
     },
     "metadata": {},
     "output_type": "display_data"
    }
   ],
   "source": [
    "df.plot(kind='scatter',x='year',y='price')"
   ]
  },
  {
   "cell_type": "code",
   "execution_count": 51,
   "metadata": {
    "collapsed": true
   },
   "outputs": [],
   "source": [
    "target = \"price\"\n",
    "y = df[target]\n",
    "X = df.drop([target,'name','kms'], 1)\n",
    "X_train, X_test, y_train, y_test = train_test_split(X, y,random_state=3)\n",
    "\n",
    "clf = linear_model.LinearRegression()\n",
    "clf.fit(X_train,y_train)\n",
    "\n",
    "y_pred = clf.predict(X_test)"
   ]
  },
  {
   "cell_type": "code",
   "execution_count": 52,
   "metadata": {
    "collapsed": false
   },
   "outputs": [
    {
     "name": "stdout",
     "output_type": "stream",
     "text": [
      "r^2 score  0.629428136832\n",
      "rmse  1.66945825015\n"
     ]
    }
   ],
   "source": [
    "print \"r^2 score \",r2_score(y_test, y_pred)\n",
    "print \"rmse \",np.sqrt(mean_squared_error(y_test, y_pred))"
   ]
  },
  {
   "cell_type": "code",
   "execution_count": 55,
   "metadata": {
    "collapsed": false
   },
   "outputs": [
    {
     "data": {
      "text/plain": [
       "[<matplotlib.lines.Line2D at 0x7f5d9fb61490>]"
      ]
     },
     "execution_count": 55,
     "metadata": {},
     "output_type": "execute_result"
    },
    {
     "data": {
      "image/png": "[encoded data removed]",
      "text/plain": [
       "<matplotlib.figure.Figure at 0x7f5da07e40d0>"
      ]
     },
     "metadata": {},
     "output_type": "display_data"
    }
   ],
   "source": [
    "plt.scatter(X_test,y_test)\n",
    "plt.plot(X_test, y_pred, color='blue',\n",
    "         linewidth=3)"
   ]
  },
  {
   "cell_type": "code",
   "execution_count": 48,
   "metadata": {
    "collapsed": false
   },
   "outputs": [],
   "source": [
    "target = \"price\"\n",
    "y = df[target]\n",
    "X = df.drop([target,'name'], 1)\n",
    "X_train, X_test, y_train, y_test = train_test_split(X, y,random_state=3)\n",
    "\n",
    "clf = linear_model.LinearRegression()\n",
    "clf.fit(X_train,y_train)\n",
    "\n",
    "y_pred = clf.predict(X_test)"
   ]
  },
  {
   "cell_type": "code",
   "execution_count": 49,
   "metadata": {
    "collapsed": false
   },
   "outputs": [
    {
     "name": "stdout",
     "output_type": "stream",
     "text": [
      "r^2 score  0.640888950113\n"
     ]
    }
   ],
   "source": [
    "print \"r^2 score \",r2_score(y_test, y_pred)"
   ]
  },
  {
   "cell_type": "code",
   "execution_count": 50,
   "metadata": {
    "collapsed": false
   },
   "outputs": [
    {
     "name": "stdout",
     "output_type": "stream",
     "text": [
      "rmse  1.64343952061\n"
     ]
    }
   ],
   "source": [
    "print \"rmse \",np.sqrt(mean_squared_error(y_test, y_pred))"
   ]
  },
  {
   "cell_type": "code",
   "execution_count": 23,
   "metadata": {
    "collapsed": false
   },
   "outputs": [
    {
     "data": {
      "text/plain": [
       "[('kms', -1.6007228665470935e-05), ('year', 0.93540576440096379)]"
      ]
     },
     "execution_count": 23,
     "metadata": {},
     "output_type": "execute_result"
    }
   ],
   "source": [
    "zip(['kms','year'],list(clf.coef_))"
   ]
  },
  {
   "cell_type": "code",
   "execution_count": 24,
   "metadata": {
    "collapsed": false
   },
   "outputs": [
    {
     "data": {
      "text/plain": [
       "-1860.481927495325"
      ]
     },
     "execution_count": 24,
     "metadata": {},
     "output_type": "execute_result"
    }
   ],
   "source": [
    "clf.intercept_ "
   ]
  },
  {
   "cell_type": "code",
   "execution_count": 25,
   "metadata": {
    "collapsed": false
   },
   "outputs": [
    {
     "data": {
      "text/plain": [
       "array([ 14.34131303,  12.74059016,  20.57104303])"
      ]
     },
     "execution_count": 25,
     "metadata": {},
     "output_type": "execute_result"
    }
   ],
   "source": [
    "clf.predict(pd.DataFrame({'kms' : [100000,200000,3000],'year' : [2006,2006,2011]}))"
   ]
  }
 ],
 "metadata": {
  "kernelspec": {
   "display_name": "Python 2",
   "language": "python",
   "name": "python2"
  },
  "language_info": {
   "codemirror_mode": {
    "name": "ipython",
    "version": 2
   },
   "file_extension": ".py",
   "mimetype": "text/x-python",
   "name": "python",
   "nbconvert_exporter": "python",
   "pygments_lexer": "ipython2",
   "version": "2.7.7"
  }
 },
 "nbformat": 4,
 "nbformat_minor": 0
}
