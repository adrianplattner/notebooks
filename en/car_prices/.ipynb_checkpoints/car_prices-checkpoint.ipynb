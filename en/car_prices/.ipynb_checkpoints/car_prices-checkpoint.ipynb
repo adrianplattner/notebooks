{
 "cells": [
  {
   "cell_type": "code",
   "execution_count": 98,
   "metadata": {
    "collapsed": false
   },
   "outputs": [],
   "source": [
    "from scrapy.selector import Selector\n",
    "from scrapy.http import HtmlResponse\n",
    "import urllib2\n",
    "import pandas as pd\n",
    "import re\n",
    "from sklearn import linear_model\n",
    "from sklearn.cross_validation import train_test_split\n",
    "from sklearn.metrics import r2_score\n",
    "from sklearn.metrics import mean_squared_error\n",
    "from sklearn.utils import check_random_state\n",
    "import numpy as np\n",
    "from scipy import stats\n",
    "import matplotlib.pyplot as plt\n",
    "%matplotlib inline"
   ]
  },
  {
   "cell_type": "code",
   "execution_count": 2,
   "metadata": {
    "collapsed": false
   },
   "outputs": [],
   "source": [
    "url = \"http://listado.tucarro.com.co/carros/chevrolet/aveo/\"\n",
    "body = urllib2.urlopen(url).read()\n",
    "response = HtmlResponse(url=url,body=body)\n"
   ]
  },
  {
   "cell_type": "code",
   "execution_count": 3,
   "metadata": {
    "collapsed": false
   },
   "outputs": [
    {
     "name": "stdout",
     "output_type": "stream",
     "text": [
      "Carros, Camionetas y Camperos Chevrolet Aveo - TuCarro Colombia\n"
     ]
    }
   ],
   "source": [
    "print response.xpath('//title/text()').extract()[0]"
   ]
  },
  {
   "cell_type": "code",
   "execution_count": 4,
   "metadata": {
    "collapsed": true
   },
   "outputs": [],
   "source": [
    "def get_cars(response):\n",
    "    cars = response.xpath('//li[@class=\"article\"]')\n",
    "    names = [ car.xpath('.//a/text()').extract()[0] for car in cars]\n",
    "    prices = [ car.xpath('.//span[@class=\"ch-price\"]/text()').extract()[0] for car in cars]\n",
    "    usage = [car.xpath('.//li[@class=\"destaque\"]/strong/text()').extract() for car in cars]\n",
    "    return pd.DataFrame({'name' : names, 'price' : prices , 'year' : [x[0] for x in usage],'kms' : [x[1] for x in usage]})"
   ]
  },
  {
   "cell_type": "code",
   "execution_count": 5,
   "metadata": {
    "collapsed": false
   },
   "outputs": [
    {
     "name": "stdout",
     "output_type": "stream",
     "text": [
      "fetching for url http://listado.tucarro.com.co/carros/chevrolet/aveo/\n",
      "fetching for url http://listado.tucarro.com.co/carros/chevrolet/aveo/_Desde_49\n",
      "fetching for url http://listado.tucarro.com.co/carros/chevrolet/aveo/_Desde_97\n",
      "fetching for url http://listado.tucarro.com.co/carros/chevrolet/aveo/_Desde_145\n",
      "fetching for url http://listado.tucarro.com.co/carros/chevrolet/aveo/_Desde_193\n",
      "fetching for url http://listado.tucarro.com.co/carros/chevrolet/aveo/_Desde_241\n",
      "fetching for url http://listado.tucarro.com.co/carros/chevrolet/aveo/_Desde_289\n",
      "fetching for url http://listado.tucarro.com.co/carros/chevrolet/aveo/_Desde_337\n",
      "fetching for url http://listado.tucarro.com.co/carros/chevrolet/aveo/_Desde_385\n",
      "fetching for url http://listado.tucarro.com.co/carros/chevrolet/aveo/_Desde_433\n",
      "fetching for url http://listado.tucarro.com.co/carros/chevrolet/aveo/_Desde_481\n",
      "fetching for url http://listado.tucarro.com.co/carros/chevrolet/aveo/_Desde_529\n",
      "fetching for url http://listado.tucarro.com.co/carros/chevrolet/aveo/_Desde_577\n",
      "fetching for url http://listado.tucarro.com.co/carros/chevrolet/aveo/_Desde_625\n",
      "fetching for url http://listado.tucarro.com.co/carros/chevrolet/aveo/_Desde_673\n",
      "fetching for url http://listado.tucarro.com.co/carros/chevrolet/aveo/_Desde_721\n",
      "fetching for url http://listado.tucarro.com.co/carros/chevrolet/aveo/_Desde_769\n"
     ]
    }
   ],
   "source": [
    "limit = 20\n",
    "count = 1\n",
    "df = get_cars(response)\n",
    "print \"fetching for url\",url\n",
    "while True:\n",
    "    if count >= limit:\n",
    "        break\n",
    "        \n",
    "    new_url = response.xpath('//li[@class=\"last-child\"]/a').xpath('@href').extract()\n",
    "    if(len(new_url)==0):\n",
    "        break\n",
    "    print \"fetching for url\",new_url[0]    \n",
    "    response = HtmlResponse(url=new_url[0],body= urllib2.urlopen(new_url[0]).read())\n",
    "    df = df.append(get_cars(response))\n",
    "    count +=1"
   ]
  },
  {
   "cell_type": "code",
   "execution_count": 6,
   "metadata": {
    "collapsed": true
   },
   "outputs": [],
   "source": [
    "df.to_csv('cars.csv',encoding='utf-8',index=False)"
   ]
  },
  {
   "cell_type": "code",
   "execution_count": 99,
   "metadata": {
    "collapsed": false
   },
   "outputs": [
    {
     "name": "stdout",
     "output_type": "stream",
     "text": [
      "ERROR! Session/line number was not unique in database. History logging moved to new session 27\n"
     ]
    },
    {
     "data": {
      "text/html": [
       "<div style=\"max-height:1000px;max-width:1500px;overflow:auto;\">\n",
       "<table border=\"1\" class=\"dataframe\">\n",
       "  <thead>\n",
       "    <tr style=\"text-align: right;\">\n",
       "      <th></th>\n",
       "      <th>kms</th>\n",
       "      <th>name</th>\n",
       "      <th>price</th>\n",
       "      <th>year</th>\n",
       "    </tr>\n",
       "  </thead>\n",
       "  <tbody>\n",
       "    <tr>\n",
       "      <th>0</th>\n",
       "      <td> 51000</td>\n",
       "      <td>  Chevrolet Aveo Family Mt 1500cc 4p Aa </td>\n",
       "      <td> 20.5</td>\n",
       "      <td> 2013</td>\n",
       "    </tr>\n",
       "    <tr>\n",
       "      <th>1</th>\n",
       "      <td> 73000</td>\n",
       "      <td>                         Chevrolet Aveo </td>\n",
       "      <td> 18.8</td>\n",
       "      <td> 2010</td>\n",
       "    </tr>\n",
       "    <tr>\n",
       "      <th>2</th>\n",
       "      <td> 76000</td>\n",
       "      <td>  Chevrolet Aveo Family Mt 1600cc 4p Aa </td>\n",
       "      <td> 17.0</td>\n",
       "      <td> 2008</td>\n",
       "    </tr>\n",
       "    <tr>\n",
       "      <th>3</th>\n",
       "      <td> 41500</td>\n",
       "      <td>  Chevrolet Aveo Emotion 1.6l Mt Aa 1ab </td>\n",
       "      <td> 21.5</td>\n",
       "      <td> 2010</td>\n",
       "    </tr>\n",
       "    <tr>\n",
       "      <th>4</th>\n",
       "      <td> 57300</td>\n",
       "      <td>                         Chevrolet Aveo </td>\n",
       "      <td> 14.7</td>\n",
       "      <td> 2008</td>\n",
       "    </tr>\n",
       "  </tbody>\n",
       "</table>\n",
       "</div>"
      ],
      "text/plain": [
       "     kms                                     name  price  year\n",
       "0  51000   Chevrolet Aveo Family Mt 1500cc 4p Aa    20.5  2013\n",
       "1  73000                          Chevrolet Aveo    18.8  2010\n",
       "2  76000   Chevrolet Aveo Family Mt 1600cc 4p Aa    17.0  2008\n",
       "3  41500   Chevrolet Aveo Emotion 1.6l Mt Aa 1ab    21.5  2010\n",
       "4  57300                          Chevrolet Aveo    14.7  2008"
      ]
     },
     "execution_count": 99,
     "metadata": {},
     "output_type": "execute_result"
    }
   ],
   "source": [
    "df.head()"
   ]
  },
  {
   "cell_type": "code",
   "execution_count": 8,
   "metadata": {
    "collapsed": false
   },
   "outputs": [],
   "source": [
    "df['kms']= df['kms'].apply(lambda x : re.sub(\"[^0-9]\",\"\", x)).astype(float)"
   ]
  },
  {
   "cell_type": "code",
   "execution_count": 9,
   "metadata": {
    "collapsed": false
   },
   "outputs": [],
   "source": [
    "df['price'] = df['price'].apply(lambda y : re.sub(\"[^0-9]\",\"\", y)).astype(float)"
   ]
  },
  {
   "cell_type": "code",
   "execution_count": 10,
   "metadata": {
    "collapsed": true
   },
   "outputs": [],
   "source": [
    "df['year']=df['year'].astype(int)"
   ]
  },
  {
   "cell_type": "code",
   "execution_count": 64,
   "metadata": {
    "collapsed": true
   },
   "outputs": [],
   "source": [
    "df['price'] = df['price'] / 1000000 "
   ]
  },
  {
   "cell_type": "code",
   "execution_count": 65,
   "metadata": {
    "collapsed": false
   },
   "outputs": [
    {
     "data": {
      "text/html": [
       "<div style=\"max-height:1000px;max-width:1500px;overflow:auto;\">\n",
       "<table border=\"1\" class=\"dataframe\">\n",
       "  <thead>\n",
       "    <tr style=\"text-align: right;\">\n",
       "      <th></th>\n",
       "      <th>kms</th>\n",
       "      <th>price</th>\n",
       "      <th>year</th>\n",
       "    </tr>\n",
       "  </thead>\n",
       "  <tbody>\n",
       "    <tr>\n",
       "      <th>count</th>\n",
       "      <td>    789.000000</td>\n",
       "      <td> 789.000000</td>\n",
       "      <td>  789.000000</td>\n",
       "    </tr>\n",
       "    <tr>\n",
       "      <th>mean</th>\n",
       "      <td>  64080.792142</td>\n",
       "      <td>  18.472653</td>\n",
       "      <td> 2009.797212</td>\n",
       "    </tr>\n",
       "    <tr>\n",
       "      <th>std</th>\n",
       "      <td>  30097.772329</td>\n",
       "      <td>   2.829632</td>\n",
       "      <td>    2.003662</td>\n",
       "    </tr>\n",
       "    <tr>\n",
       "      <th>min</th>\n",
       "      <td>   4500.000000</td>\n",
       "      <td>  13.300000</td>\n",
       "      <td> 2006.000000</td>\n",
       "    </tr>\n",
       "    <tr>\n",
       "      <th>25%</th>\n",
       "      <td>  42000.000000</td>\n",
       "      <td>  16.400000</td>\n",
       "      <td> 2008.000000</td>\n",
       "    </tr>\n",
       "    <tr>\n",
       "      <th>50%</th>\n",
       "      <td>  60000.000000</td>\n",
       "      <td>  18.000000</td>\n",
       "      <td> 2010.000000</td>\n",
       "    </tr>\n",
       "    <tr>\n",
       "      <th>75%</th>\n",
       "      <td>  80000.000000</td>\n",
       "      <td>  20.300000</td>\n",
       "      <td> 2012.000000</td>\n",
       "    </tr>\n",
       "    <tr>\n",
       "      <th>max</th>\n",
       "      <td> 200000.000000</td>\n",
       "      <td>  32.000000</td>\n",
       "      <td> 2014.000000</td>\n",
       "    </tr>\n",
       "  </tbody>\n",
       "</table>\n",
       "</div>"
      ],
      "text/plain": [
       "                 kms       price         year\n",
       "count     789.000000  789.000000   789.000000\n",
       "mean    64080.792142   18.472653  2009.797212\n",
       "std     30097.772329    2.829632     2.003662\n",
       "min      4500.000000   13.300000  2006.000000\n",
       "25%     42000.000000   16.400000  2008.000000\n",
       "50%     60000.000000   18.000000  2010.000000\n",
       "75%     80000.000000   20.300000  2012.000000\n",
       "max    200000.000000   32.000000  2014.000000"
      ]
     },
     "execution_count": 65,
     "metadata": {},
     "output_type": "execute_result"
    }
   ],
   "source": [
    "df.describe()"
   ]
  },
  {
   "cell_type": "code",
   "execution_count": null,
   "metadata": {
    "collapsed": false
   },
   "outputs": [],
   "source": [
    "df.groupby(['year']).size().plot()"
   ]
  },
  {
   "cell_type": "code",
   "execution_count": 66,
   "metadata": {
    "collapsed": false
   },
   "outputs": [],
   "source": [
    "target = \"price\"\n",
    "y = df[target]\n",
    "X = df.drop([target,'name'], 1)\n",
    "X_train, X_test, y_train, y_test = train_test_split(X, y,random_state=3)\n",
    "\n",
    "clf = linear_model.LinearRegression()\n",
    "clf.fit(X_train,y_train)\n",
    "\n",
    "y_pred = clf.predict(X_test)"
   ]
  },
  {
   "cell_type": "code",
   "execution_count": 67,
   "metadata": {
    "collapsed": false
   },
   "outputs": [
    {
     "name": "stdout",
     "output_type": "stream",
     "text": [
      "r^2 score  0.615265212506\n"
     ]
    }
   ],
   "source": [
    "print \"r^2 score \",r2_score(y_test, y_pred)"
   ]
  },
  {
   "cell_type": "code",
   "execution_count": 68,
   "metadata": {
    "collapsed": false
   },
   "outputs": [
    {
     "name": "stdout",
     "output_type": "stream",
     "text": [
      "rmse  1.65465327384\n"
     ]
    }
   ],
   "source": [
    "print \"rmse \",np.sqrt(mean_squared_error(y_test, y_pred))"
   ]
  },
  {
   "cell_type": "code",
   "execution_count": 69,
   "metadata": {
    "collapsed": false
   },
   "outputs": [
    {
     "data": {
      "text/plain": [
       "[('kms', -1.7709030429444727e-05), ('year', 0.9255688045447531)]"
      ]
     },
     "execution_count": 69,
     "metadata": {},
     "output_type": "execute_result"
    }
   ],
   "source": [
    "zip(['kms','year'],list(clf.coef_))"
   ]
  },
  {
   "cell_type": "code",
   "execution_count": 70,
   "metadata": {
    "collapsed": false
   },
   "outputs": [
    {
     "data": {
      "text/plain": [
       "-1840.5961400353488"
      ]
     },
     "execution_count": 70,
     "metadata": {},
     "output_type": "execute_result"
    }
   ],
   "source": [
    "clf.intercept_ "
   ]
  },
  {
   "cell_type": "code",
   "execution_count": 75,
   "metadata": {
    "collapsed": false
   },
   "outputs": [
    {
     "data": {
      "text/plain": [
       "array([ 14.32397884,  12.5530758 ,  20.66959881])"
      ]
     },
     "execution_count": 75,
     "metadata": {},
     "output_type": "execute_result"
    }
   ],
   "source": [
    "clf.predict(pd.DataFrame({'kms' : [100000,200000,3000],'year' : [2006,2006,2011]}))"
   ]
  }
 ],
 "metadata": {
  "kernelspec": {
   "display_name": "Python 2",
   "language": "python",
   "name": "python2"
  },
  "language_info": {
   "codemirror_mode": {
    "name": "ipython",
    "version": 2
   },
   "file_extension": ".py",
   "mimetype": "text/x-python",
   "name": "python",
   "nbconvert_exporter": "python",
   "pygments_lexer": "ipython2",
   "version": "2.7.7"
  }
 },
 "nbformat": 4,
 "nbformat_minor": 0
}
